{
 "cells": [
  {
   "cell_type": "markdown",
   "id": "89739d1b-6681-4f86-bc86-e345ff134059",
   "metadata": {},
   "source": [
    "## Reflexion\n",
    "\n",
    "The [Reflexion pattern](https://arxiv.org/pdf/2303.11366), introduced by Shinn et al., extends basic reflection by combining self-critique with external knowledge integration and structured output parsing. \n",
    "Unlike simple reflection, Reflexion allows an agent to learn from mistakes in real time while leveraging additional information.\n",
    "The workflow typically follows these steps:\n",
    "- Initial Generation: The agent produces a response along with self-critique and research queries.\n",
    "- External Research: Knowledge gaps identified during critique trigger web searches or other information retrieval.\n",
    "- Knowledge Integration: New insights are incorporated into an improved response.\n",
    "- Iterative Refinement: The agent repeats the cycle until the response meets desired quality thresholds."
   ]
  },
  {
   "cell_type": "markdown",
   "id": "4a5769d4-2822-41f1-8e76-28766cdeb360",
   "metadata": {},
   "source": [
    "### Setup"
   ]
  },
  {
   "cell_type": "code",
   "execution_count": 11,
   "id": "fd29b6ac-62e6-491d-8d63-b6b7d8681f5a",
   "metadata": {},
   "outputs": [],
   "source": [
    "# Required imports\n",
    "from langchain_aws import ChatBedrock\n",
    "from langchain_community.tools.tavily_search import TavilySearchResults\n",
    "from langchain_community.utilities.tavily_search import TavilySearchAPIWrapper\n",
    "from langchain_core.messages import HumanMessage, ToolMessage\n",
    "from langchain_core.output_parsers.openai_tools import PydanticToolsParser\n",
    "from langchain_core.prompts import ChatPromptTemplate, MessagesPlaceholder\n",
    "from langchain_core.tools import StructuredTool\n",
    "from langgraph.prebuilt import ToolNode\n",
    "from langgraph.graph import END, StateGraph, START\n",
    "from langgraph.graph.message import add_messages\n",
    "from pydantic import ValidationError, BaseModel, Field\n",
    "from typing import Literal, Annotated\n",
    "from typing_extensions import TypedDict\n",
    "from dotenv import load_dotenv\n",
    "from IPython.display import Image, display\n",
    "import json\n",
    "import datetime\n"
   ]
  },
  {
   "cell_type": "code",
   "execution_count": 12,
   "id": "80fd3821-db95-4f84-be98-7f4f22e7839b",
   "metadata": {},
   "outputs": [
    {
     "data": {
      "text/plain": [
       "False"
      ]
     },
     "execution_count": 12,
     "metadata": {},
     "output_type": "execute_result"
    }
   ],
   "source": [
    "# Load environment variables\n",
    "load_dotenv()\n",
    "load_dotenv(dotenv_path=\"../.env\", override=True)"
   ]
  },
  {
   "cell_type": "markdown",
   "id": "01ab71bf-894f-4f6f-909f-8c4ea68ac33a",
   "metadata": {},
   "source": [
    "### Define LLM "
   ]
  },
  {
   "cell_type": "code",
   "execution_count": 13,
   "id": "e2aeadaa-6b2b-46e8-8816-b13241c9ebb7",
   "metadata": {},
   "outputs": [],
   "source": [
    "# Initialize LLM - Anthropic Claude via AWS Bedrock\n",
    "llm = ChatBedrock(\n",
    "    model_id=\"anthropic.claude-3-5-sonnet-20241022-v2:0\",\n",
    "    region_name=\"us-west-2\",\n",
    "    temperature=0\n",
    ")"
   ]
  },
  {
   "cell_type": "markdown",
   "id": "9e082cd3-a0b0-43a5-96fe-b71908274fe8",
   "metadata": {},
   "source": [
    "At its core, a Reflexion agent is built around an Actor, an agent that generates an initial response, critiques it, and then re-executes the task with improvements. Supporting this loop are a few critical sub-components:\n",
    "- Tool execution: access to external knowledge sources.\n",
    "- Initial responder: generates the first draft along with self-reflection.\n",
    "- Revisor/Revision: produces refined outputs by incorporating prior reflections.\n",
    "\n",
    "### Construct tools\n",
    "Since Reflexion requires external knowledge, we first define a tool to fetch information from the web. Here we use the TavilySearchResults tool, a wrapper around the Tavily Search API, enabling our agent to perform web searches and gather supporting evidence.\n"
   ]
  },
  {
   "cell_type": "code",
   "execution_count": 14,
   "id": "0ea06c45-4574-496b-baf7-c606ae509772",
   "metadata": {},
   "outputs": [],
   "source": [
    "from langchain_community.tools.tavily_search import TavilySearchResults\n",
    "from langchain_community.utilities.tavily_search import TavilySearchAPIWrapper\n",
    "\n",
    "# Initialize search tool\n",
    "web_search = TavilySearchAPIWrapper()\n",
    "tavily_tool = TavilySearchResults(api_wrapper=web_search, max_results=5)"
   ]
  },
  {
   "cell_type": "markdown",
   "id": "e93d9ace",
   "metadata": {},
   "source": [
    "### Define the Prompt Template\n",
    "Next, let's define the prompt that will guide this actor agent's behavior. Prompts serve as the \"role description\" for an agent, specifying what it should and should not do. The agent is instructed to:\n",
    "- Provide an initial explanation.\n",
    "- Reflect and critique its own answer.\n",
    "- Generate search queries to fill knowledge gaps."
   ]
  },
  {
   "cell_type": "code",
   "execution_count": null,
   "id": "a52c668a",
   "metadata": {},
   "outputs": [],
   "source": [
    "# Agent prompt template\n",
    "actor_prompt_template = ChatPromptTemplate.from_messages(\n",
    "    [\n",
    "        (\n",
    "            \"system\",\n",
    "            \"\"\"You are an expert technical educator specializing in machine learning and neural networks.\n",
    "                Current time: {time}\n",
    "                1. {primary_instruction}\n",
    "                2. Reflect and critique your answer. Be severe to maximize improvement.\n",
    "                3. Recommend search queries to research information and improve your answer.\"\"\",\n",
    "        ),\n",
    "        MessagesPlaceholder(variable_name=\"messages\"),\n",
    "        (\n",
    "            \"user\",\n",
    "            \"\\n\\n<s>Reflect on the user's original question and the\"\n",
    "            \" actions taken thus far. Respond using the {function_name} function.</reminder>\",\n",
    "        ),\n",
    "    ]\n",
    ").partial(\n",
    "    time=lambda: datetime.datetime.now().isoformat(),\n",
    ")"
   ]
  },
  {
   "cell_type": "markdown",
   "id": "1198f2b9",
   "metadata": {},
   "source": [
    "### Enforce Structured Output\n",
    "When dealing with multi-step workflows, it's always recommended to define structured output models for each sub-agent. To ensure consistency, we define structured outputs using Pydantic models:"
   ]
  },
  {
   "cell_type": "code",
   "execution_count": null,
   "id": "226cd8c8",
   "metadata": {},
   "outputs": [],
   "source": [
    "\n",
    "# Pydantic models for structured output\n",
    "class Reflection(BaseModel):\n",
    "    missing: str = Field(description=\"Critique of what is missing.\")\n",
    "    superfluous: str = Field(description=\"Critique of what is superfluous\")\n",
    "\n",
    "class GenerateResponse(BaseModel):\n",
    "    \"\"\"Generate response. Provide an answer, critique, and then follow up with search queries to improve the answer.\"\"\"\n",
    "    \n",
    "    response: str = Field(description=\"~250 word detailed answer to the question.\")\n",
    "    reflection: Reflection = Field(description=\"Your reflection on the initial answer.\")\n",
    "    research_queries: list[str] = Field(\n",
    "        description=\"1-3 search queries for researching improvements to address the critique of your current answer.\"\n",
    "    )\n"
   ]
  },
  {
   "cell_type": "markdown",
   "id": "34775209",
   "metadata": {},
   "source": [
    "For this, we use Pydantic's BaseModel to define two data classes:\n",
    "- Reflection captures the self-critique, requiring the agent to highlight what information is missing and what is superfluous (unnecessary).\n",
    "- GenerateResponse structures the final output. It ensures the agent provides its main response, includes a reflection (based on the Reflection class), and supplies a list of research_queries.\n",
    "\n",
    "This structured approach guarantees that our agents produce consistent and parseable responses."
   ]
  },
  {
   "cell_type": "markdown",
   "id": "ad24906d",
   "metadata": {},
   "source": [
    "### Add Retry Logic\n",
    "Structured parsing can fail if the output doesn't match the schema. To address this, we add retry logic with schema feedback:"
   ]
  },
  {
   "cell_type": "code",
   "execution_count": null,
   "id": "a5b33bbe",
   "metadata": {},
   "outputs": [],
   "source": [
    "# Agent with retry logic\n",
    "class AdaptiveResponder:\n",
    "    def __init__(self, chain, output_parser):\n",
    "        self.chain = chain\n",
    "        self.output_parser = output_parser\n",
    "    \n",
    "    def generate(self, conversation_state: dict):\n",
    "        llm_response = None\n",
    "        for retry_count in range(3):\n",
    "            llm_response = self.chain.invoke(\n",
    "                {\"messages\": conversation_state[\"messages\"]}, {\"tags\": [f\"attempt:{retry_count}\"]}\n",
    "            )\n",
    "            try:\n",
    "                self.output_parser.invoke(llm_response)\n",
    "                return {\"messages\": llm_response}\n",
    "            except ValidationError as validation_error:\n",
    "                # Fix: Convert schema dict to JSON string\n",
    "                schema_json = json.dumps(self.output_parser.model_json_schema(), indent=2)\n",
    "                conversation_state = conversation_state + [\n",
    "                    llm_response,\n",
    "                    ToolMessage(\n",
    "                        content=f\"{repr(validation_error)}\\n\\nPay close attention to the function schema.\\n\\n{schema_json}\\n\\nRespond by fixing all validation errors.\",\n",
    "                        tool_call_id=llm_response.tool_calls[0][\"id\"],\n",
    "                    ),\n",
    "                ]\n",
    "        return {\"messages\": llm_response}\n"
   ]
  },
  {
   "cell_type": "markdown",
   "id": "a999bbd8",
   "metadata": {},
   "source": [
    "This brings us to an important concept: retry logic with schema feedback. When structured outputs fail validation, we provide the schema and error details back to the LLM for self-correction.\n",
    "\n",
    "### Bind the Data Model\n",
    "We now bind the GenerateResponse model as a tool. This forces the LLM to output exactly in the defined structure."
   ]
  },
  {
   "cell_type": "code",
   "execution_count": null,
   "id": "fe76775a-ecc7-4c49-90f5-64be9380a2db",
   "metadata": {},
   "outputs": [],
   "source": [
    "# Initial answer chain\n",
    "initial_response_chain = actor_prompt_template.partial(\n",
    "    primary_instruction=\"Provide a detailed ~250 word explanation suitable for someone with basic programming background.\",\n",
    "    function_name=GenerateResponse.__name__,\n",
    ") | llm.bind_tools(tools=[GenerateResponse])\n",
    "\n",
    "response_parser = PydanticToolsParser(tools=[GenerateResponse])\n",
    "\n",
    "initial_responder = AdaptiveResponder(\n",
    "    chain=initial_response_chain, output_parser=response_parser\n",
    ")"
   ]
  },
  {
   "cell_type": "markdown",
   "id": "c0df2de7",
   "metadata": {},
   "source": [
    "After invoking initial_response_chain, we'll get a structured output that includes the initial answer, the self-critique, and the generated search queries. Let's try it out by testing our initial responder with a simple query."
   ]
  },
  {
   "cell_type": "code",
   "execution_count": 17,
   "id": "82969ab9-ed5a-44b9-a273-552dfe71c247",
   "metadata": {},
   "outputs": [
    {
     "data": {
      "text/plain": [
       "{'messages': AIMessage(content=\"I'll explain the key differences between supervised and unsupervised learning using the GenerateResponse function.\", additional_kwargs={'usage': {'prompt_tokens': 660, 'completion_tokens': 524, 'cache_read_input_tokens': 0, 'cache_write_input_tokens': 0, 'total_tokens': 1184}, 'stop_reason': 'tool_use', 'thinking': {}, 'model_id': 'anthropic.claude-3-5-sonnet-20241022-v2:0', 'model_name': 'anthropic.claude-3-5-sonnet-20241022-v2:0'}, response_metadata={'usage': {'prompt_tokens': 660, 'completion_tokens': 524, 'cache_read_input_tokens': 0, 'cache_write_input_tokens': 0, 'total_tokens': 1184}, 'stop_reason': 'tool_use', 'thinking': {}, 'model_id': 'anthropic.claude-3-5-sonnet-20241022-v2:0', 'model_name': 'anthropic.claude-3-5-sonnet-20241022-v2:0'}, id='run--316a2aa2-7cbe-4e12-8814-45121515a285-0', tool_calls=[{'name': 'GenerateResponse', 'args': {'response': \"Supervised and unsupervised learning represent two fundamental approaches in machine learning that differ primarily in how they learn from data.\\n\\nSupervised learning works with labeled data, meaning each input has a corresponding known output or target value. Think of it like learning with a teacher who provides the correct answers. For example, in a supervised learning model classifying emails as spam or not spam, each training email would be labeled with the correct classification. The algorithm learns by comparing its predictions to these known labels and adjusting its parameters to minimize errors. Common supervised learning tasks include classification (predicting categories) and regression (predicting continuous values).\\n\\nIn contrast, unsupervised learning works with unlabeled data, attempting to find hidden patterns or structures without any predefined correct answers. It's like trying to organize a pile of objects without being told how they should be grouped. For instance, clustering algorithms might group customers into distinct segments based on their purchasing behavior, without any predetermined categories. The system discovers these patterns independently by analyzing relationships and similarities in the data.\\n\\nA key practical difference is that supervised learning requires the time-consuming and often expensive process of data labeling, while unsupervised learning can work with raw, unlabeled data. However, supervised learning typically provides more precise and measurable results since there's a clear way to evaluate performance against known correct answers.\", 'reflection': {'missing': \"The explanation lacks concrete examples of popular algorithms for each type. It doesn't address semi-supervised learning as a middle ground. The explanation could benefit from discussing the specific evaluation metrics used in each approach. There's no mention of the computational complexity differences or the scale of data typically required.\", 'superfluous': 'The email spam example could be more concise. The analogy of learning with a teacher, while helpful, takes up space that could be used for more technical details.'}, 'research_queries': ['comparison of evaluation metrics in supervised vs unsupervised learning', 'popular algorithms and use cases for supervised vs unsupervised learning', 'semi-supervised learning advantages and applications']}, 'id': 'toolu_bdrk_01QbM3eR5M1wTaaRv14Kn3PG', 'type': 'tool_call'}], usage_metadata={'input_tokens': 660, 'output_tokens': 524, 'total_tokens': 1184, 'input_token_details': {'cache_creation': 0, 'cache_read': 0}})}"
      ]
     },
     "execution_count": 17,
     "metadata": {},
     "output_type": "execute_result"
    }
   ],
   "source": [
    "example_question = \"What is the difference between supervised and unsupervised learning?\"\n",
    "initial = initial_responder.generate(\n",
    "    {\"messages\": [HumanMessage(content=example_question)]}\n",
    ")\n",
    "\n",
    "initial"
   ]
  },
  {
   "cell_type": "markdown",
   "id": "530faa20-2947-4973-9097-236a3052a8ed",
   "metadata": {},
   "source": [
    "### Revision\n",
    "The Revision step represents the final stage of the Reflection loop. Its purpose is to combine three critical elements: the original draft, the self-critique, and the research results,  to produce a refined, evidence-backed response.\n",
    "We start by defining a new instruction set (revise_instructions) that explicitly guides the Revisor. These instructions stress the importance of:\n",
    "- Integrating critique into the revision process\n",
    "- Adding numerical citations tied to the research evidence\n",
    "- Differentiating correlation from causation in explanations\n",
    "- Including a structured References section with clean URLs only"
   ]
  },
  {
   "cell_type": "code",
   "execution_count": null,
   "id": "62f8ca36",
   "metadata": {},
   "outputs": [],
   "source": [
    "# Revision instructions\n",
    "improvement_guidelines = \"\"\"Revise your previous explanation using the new information.\n",
    "    - You should use the previous critique to add important technical details to your explanation.\n",
    "    - You MUST include numerical citations in your revised answer to ensure it can be verified.\n",
    "    - Add a \"References\" section to the bottom of your answer (which does not count towards the word limit).\n",
    "    - For the references field, provide a clean list of URLs only (e.g., [\"https://example.com\", \"https://example2.com\"])\n",
    "    - You should use the previous critique to remove superfluous information from your answer and make SURE it is not more than 250 words.\n",
    "    - Keep the explanation accessible for someone with basic programming background while being technically accurate.\n",
    "\"\"\""
   ]
  },
  {
   "cell_type": "markdown",
   "id": "768ddeca",
   "metadata": {},
   "source": [
    "To enforce output structure, we introduce a Pydantic schema, ImproveResponse. This class extends GenerateResponse and introduces an additional sources field, ensuring that each improved answer comes with verifiable references."
   ]
  },
  {
   "cell_type": "code",
   "execution_count": null,
   "id": "0e43a8a5-8b84-49ed-80f3-a53d154f2c30",
   "metadata": {},
   "outputs": [],
   "source": [
    "# Revision instructions\n",
    "class ImproveResponse(GenerateResponse):\n",
    "    \"\"\"Improve your original answer to your question. Provide an answer, reflection,\n",
    "    cite your reflection with references, and finally\n",
    "    add search queries to improve the answer.\"\"\"\n",
    "    \n",
    "    sources: list[str] = Field(\n",
    "        description=\"List of reference URLs that support your answer. Each reference should be a clean URL string.\"\n",
    "    )\n"
   ]
  },
  {
   "cell_type": "markdown",
   "id": "7eb7aa1f-f9e3-4e03-a784-2f66804c1973",
   "metadata": {},
   "source": [
    "With the schema defined, we now construct the revision chain by binding the guidelines to the LLM and parsing its outputs:"
   ]
  },
  {
   "cell_type": "code",
   "execution_count": null,
   "id": "0870d7b1-c476-441b-ba87-5ec7268d80fd",
   "metadata": {},
   "outputs": [],
   "source": [
    "\n",
    "# Revision chain\n",
    "improvement_chain = actor_prompt_template.partial(\n",
    "    primary_instruction=improvement_guidelines,\n",
    "    function_name=ImproveResponse.__name__,\n",
    ") | llm.bind_tools(tools=[ImproveResponse])\n",
    "\n",
    "improvement_parser = PydanticToolsParser(tools=[ImproveResponse])\n",
    "response_improver = AdaptiveResponder(chain=improvement_chain, output_parser=improvement_parser)"
   ]
  },
  {
   "cell_type": "markdown",
   "id": "811eaec0",
   "metadata": {},
   "source": [
    "We can now test this chain by providing a full conversation history, including the initial draft, the critique, and the tool output:"
   ]
  },
  {
   "cell_type": "code",
   "execution_count": 20,
   "id": "67f18a58-a625-4b22-ab7e-fcd56a2b9d79",
   "metadata": {},
   "outputs": [
    {
     "data": {
      "text/plain": [
       "AIMessage(content=\"I'll use the ImproveResponse function to provide a more focused and technically precise explanation of supervised vs. unsupervised learning.\", additional_kwargs={'usage': {'prompt_tokens': 3245, 'completion_tokens': 622, 'cache_read_input_tokens': 0, 'cache_write_input_tokens': 0, 'total_tokens': 3867}, 'stop_reason': 'tool_use', 'thinking': {}, 'model_id': 'anthropic.claude-3-5-sonnet-20241022-v2:0', 'model_name': 'anthropic.claude-3-5-sonnet-20241022-v2:0'}, response_metadata={'usage': {'prompt_tokens': 3245, 'completion_tokens': 622, 'cache_read_input_tokens': 0, 'cache_write_input_tokens': 0, 'total_tokens': 3867}, 'stop_reason': 'tool_use', 'thinking': {}, 'model_id': 'anthropic.claude-3-5-sonnet-20241022-v2:0', 'model_name': 'anthropic.claude-3-5-sonnet-20241022-v2:0'}, id='run--3c3b46e3-9e62-4158-a3dc-0d215fa35cba-0', tool_calls=[{'name': 'ImproveResponse', 'args': {'response': 'Supervised and unsupervised learning represent distinct machine learning paradigms that differ in their learning approach and evaluation methods [1].\\n\\nSupervised learning algorithms learn from labeled training data, where each input has a corresponding target output. Common algorithms include Support Vector Machines (SVM) for classification and Linear Regression for continuous value prediction. Performance is measured through specific metrics - classification tasks use accuracy, precision, and recall, while regression tasks employ Mean Absolute Error (MAE) and Root Mean Squared Error (RMSE) [2].\\n\\nUnsupervised learning discovers hidden patterns in unlabeled data. Popular algorithms include K-means for clustering and Principal Component Analysis (PCA) for dimensionality reduction. These algorithms are evaluated using internal metrics like Silhouette Coefficient and Within-Cluster Sum Square for clustering, or Cumulative Explained Variance for dimensionality reduction [3].\\n\\nKey practical distinctions include:\\n- Data Requirements: Supervised needs labeled data; unsupervised works with raw data\\n- Evaluation: Supervised has clear performance metrics against ground truth; unsupervised uses intrinsic structure metrics\\n- Applications: Supervised excels in prediction tasks (classification/regression); unsupervised in pattern discovery (clustering/dimensionality reduction)', 'reflection': {'missing': \"The explanation could benefit from including specific real-world applications and success rates. It doesn't address the computational requirements or discuss hybrid approaches like semi-supervised learning. Could include more about the relative advantages and disadvantages of each approach.\", 'superfluous': 'The listing of evaluation metrics could be more selective - not all metrics needed to be mentioned. The explanation of algorithms could be more focused on the most commonly used ones.'}, 'research_queries': ['real-world applications and success rates of supervised vs unsupervised learning', 'computational requirements comparison supervised unsupervised learning', 'semi-supervised learning advantages over pure supervised and unsupervised approaches'], 'sources': ['https://www.kdnuggets.com/2023/04/exploring-unsupervised-learning-metrics.html', 'https://medium.com/@manpreetkrbuttar/evaluation-metrics-supervised-ml-9ea9e35b2ebc', 'https://h2o.ai/blog/2022/unsupervised-learning-metrics/']}, 'id': 'toolu_bdrk_014hJaNwDhAb9Yzx7GgvCvaC', 'type': 'tool_call'}], usage_metadata={'input_tokens': 3245, 'output_tokens': 622, 'total_tokens': 3867, 'input_token_details': {'cache_creation': 0, 'cache_read': 0}})"
      ]
     },
     "execution_count": 20,
     "metadata": {},
     "output_type": "execute_result"
    }
   ],
   "source": [
    "# Assuming tavily_tool is defined elsewhere\n",
    "revised = response_improver.generate(\n",
    "    {\n",
    "        \"messages\": [\n",
    "            HumanMessage(content=example_question),\n",
    "            initial[\"messages\"],\n",
    "            ToolMessage(\n",
    "                tool_call_id=initial[\"messages\"].tool_calls[0][\"id\"],\n",
    "                content=json.dumps(\n",
    "                    tavily_tool.invoke(\n",
    "                        {\n",
    "                            \"query\": initial[\"messages\"].tool_calls[0][\"args\"][\n",
    "                                \"research_queries\"\n",
    "                            ][0]\n",
    "                        }\n",
    "                    )\n",
    "                ),\n",
    "            ),\n",
    "        ]\n",
    "    }\n",
    ")\n",
    "\n",
    "revised[\"messages\"]"
   ]
  },
  {
   "cell_type": "markdown",
   "id": "041d90e2-3f37-41ab-ad82-50f53ae9f6d0",
   "metadata": {},
   "source": [
    "### Create Tool Node\n",
    "The next step is to execute the tool calls inside a LangGraph workflow. While the Responder and Revisor use different schemas, they both rely on the same external tool (in this case, a search API).\n",
    "The key differentiator of Reflexion is its ability to identify knowledge gaps and actively research solutions.\n",
    "Let's implement the search integration:"
   ]
  },
  {
   "cell_type": "code",
   "execution_count": 21,
   "id": "46259dc4-bc28-4b33-9c23-19ffaa349cff",
   "metadata": {},
   "outputs": [],
   "source": [
    "\n",
    "# Tool execution function\n",
    "def execute_search_queries(research_queries: list[str], **kwargs):\n",
    "    \"\"\"Execute the generated search queries.\"\"\"\n",
    "    return tavily_tool.batch([{\"query\": search_term} for search_term in research_queries])\n",
    "\n",
    "# Tool node\n",
    "search_executor = ToolNode(\n",
    "    [\n",
    "        StructuredTool.from_function(execute_search_queries, name=GenerateResponse.__name__),\n",
    "        StructuredTool.from_function(execute_search_queries, name=ImproveResponse.__name__),\n",
    "    ]\n",
    ")"
   ]
  },
  {
   "cell_type": "markdown",
   "id": "e83a422d-7ff3-4999-a4b5-6689f7984dc4",
   "metadata": {},
   "source": [
    "This brings us to tool integration in LangGraph workflows. The ToolNode automatically handles tool execution and result formatting, making it seamless to incorporate external knowledge sources.\n",
    "\n",
    "### Building the Graph\n",
    "\n",
    "Finally, we assemble all components: Responder, Tool Executor, and Revisor into a cyclical graph. This structure captures the iterative nature of Reflexion, where each loop strengthens the final answer.\n",
    "We first define the graph state and loop control functions:#### Construct Graph¶"
   ]
  },
  {
   "cell_type": "code",
   "execution_count": null,
   "id": "dcf703dc-94a1-4510-bf33-aed57c32b712",
   "metadata": {},
   "outputs": [],
   "source": [
    "# Graph state definition\n",
    "class State(TypedDict):\n",
    "    messages: Annotated[list, add_messages]\n",
    "\n",
    "# Helper functions for looping logic\n",
    "def get_iteration_count(message_history: list):\n",
    "    \"\"\" Counts backwards through messages until it hits a non-tool, non-AI message\n",
    "    This helps determine how many tool execution cycles have occurred recently\"\"\"\n",
    "    \n",
    "    iteration_count = 0\n",
    "    # Iterate through messages in reverse order (most recent first)\n",
    "    for message in message_history[::-1]:\n",
    "        if message.type not in {\"tool\", \"ai\"}:\n",
    "            break\n",
    "        iteration_count += 1\n",
    "    return iteration_count\n",
    "\n",
    "def determine_next_action(state: list):\n",
    "    \"\"\"\n",
    "    Conditional edge function that determines whether to continue the loop or end.\n",
    "    \n",
    "    Args:\n",
    "        state: Current workflow state containing messages\n",
    "        \n",
    "    Returns:\n",
    "        str: Next node to execute (\"search_and_research\") or END to terminate\n",
    "        \n",
    "    Logic: \n",
    "    - Counts recent iterations using get_iteration_count()\n",
    "    - If we've exceeded MAXIMUM_CYCLES, stop the workflow\n",
    "    - Otherwise, continue with another tool execution cycle\n",
    "    \"\"\"\n",
    "    # in our case, we'll just stop after N plans\n",
    "    current_iterations = get_iteration_count(state[\"messages\"])\n",
    "    if current_iterations > MAXIMUM_CYCLES:\n",
    "        return END\n",
    "    return \"search_and_research\"\n",
    "\n",
    "# Graph construction\n",
    "MAXIMUM_CYCLES = 5\n",
    "workflow_builder = StateGraph(State)\n",
    "\n",
    "# Add nodes\n",
    "workflow_builder.add_node(\"create_draft\", initial_responder.generate)\n",
    "workflow_builder.add_node(\"search_and_research\", search_executor)\n",
    "workflow_builder.add_node(\"enhance_response\", response_improver.generate)\n",
    "\n",
    "# Add edges\n",
    "workflow_builder.add_edge(START, \"create_draft\")\n",
    "workflow_builder.add_edge(\"create_draft\", \"search_and_research\")\n",
    "workflow_builder.add_edge(\"search_and_research\", \"enhance_response\")\n",
    "\n",
    "# Add conditional edges for looping\n",
    "workflow_builder.add_conditional_edges(\"enhance_response\", determine_next_action, [\"search_and_research\", END])\n",
    "\n",
    "# Compile the graph\n",
    "reflexion_workflow = workflow_builder.compile()\n"
   ]
  },
  {
   "cell_type": "code",
   "execution_count": 23,
   "id": "1123c3da-2a8d-4e5c-9759-1605de84ecfb",
   "metadata": {},
   "outputs": [
    {
     "data": {
      "image/png": "[encoded data removed]",
      "text/plain": [
       "<IPython.core.display.Image object>"
      ]
     },
     "metadata": {},
     "output_type": "display_data"
    }
   ],
   "source": [
    "from IPython.display import Image, display\n",
    "\n",
    "# Show the agent\n",
    "display(Image(reflexion_workflow.get_graph().draw_png()))\n"
   ]
  },
  {
   "cell_type": "markdown",
   "id": "d3dfbba2-bb33-48e1-9d12-296d933101db",
   "metadata": {},
   "source": [
    "### Testing"
   ]
  },
  {
   "cell_type": "code",
   "execution_count": 24,
   "id": "a0ed997d-a3df-43cc-b297-41bde131868f",
   "metadata": {},
   "outputs": [
    {
     "name": "stdout",
     "output_type": "stream",
     "text": [
      "Running Reflexion agent with question: How do neural networks actually learn?\n",
      "============================================================\n",
      "\n",
      "Step 0\n",
      "----------------------------------------\n",
      "================================\u001b[1m Human Message \u001b[0m=================================\n",
      "\n",
      "How do neural networks actually learn?\n",
      "\n",
      "Step 1\n",
      "----------------------------------------\n",
      "==================================\u001b[1m Ai Message \u001b[0m==================================\n",
      "\n",
      "I'll provide a detailed explanation of how neural networks learn using the GenerateResponse function.\n",
      "Tool Calls:\n",
      "  GenerateResponse (toolu_bdrk_01DqGLJ3FewnonPBX697Fxu7)\n",
      " Call ID: toolu_bdrk_01DqGLJ3FewnonPBX697Fxu7\n",
      "  Args:\n",
      "    response: Neural networks learn through a process called backpropagation combined with gradient descent optimization. Here's how it works:\n",
      "\n",
      "First, a neural network starts with random weights and biases connecting its neurons. During training, it processes input data through these connections, with each neuron applying an activation function to determine its output. This forward pass generates predictions that initially will be quite wrong.\n",
      "\n",
      "The key learning happens in three steps:\n",
      "1. Error Calculation: The network compares its predictions to the actual correct answers using a loss function, which quantifies how wrong the predictions are.\n",
      "2. Backpropagation: The error is propagated backwards through the network, calculating how much each weight and bias contributed to the total error. This uses calculus (specifically the chain rule) to compute gradients that indicate how adjusting each parameter would affect the error.\n",
      "3. Parameter Updates: Using gradient descent, the network adjusts its weights and biases in small steps in the direction that reduces the error. The learning rate controls how big these steps are.\n",
      "\n",
      "This process repeats many times with different training examples. As the network processes more data, it gradually refines its parameters to minimize prediction errors. The network is essentially learning patterns in the data by adjusting its internal parameters through this systematic trial and error process, guided by mathematical optimization.\n",
      "    reflection: {'missing': \"The explanation lacks concrete examples and metaphors that would make it more accessible. It doesn't address common challenges like overfitting or vanishing gradients. The role of different activation functions and their impact on learning isn't explained. There's no mention of different optimization algorithms beyond basic gradient descent or how batch processing works.\", 'superfluous': \"The technical terms like 'backpropagation' and 'gradient descent' might be overwhelming without proper introduction. The three-step breakdown could be simplified for beginners while maintaining accuracy.\"}\n",
      "    research_queries: ['neural network learning explained with real-world analogies', 'common problems in neural network training and solutions', 'comparison of different optimization algorithms in deep learning']\n",
      "\n",
      "Step 2\n",
      "----------------------------------------\n",
      "=================================\u001b[1m Tool Message \u001b[0m=================================\n",
      "Name: GenerateResponse\n",
      "\n",
      "[[{\"title\": \"Deep Learning Simplified: How NEURAL NETWORKS Work ...\", \"url\": \"https://www.youtube.com/watch?v=pLf_W4OKxEQ\", \"content\": \"- Neuron Functions: How individual neurons within the hidden layers focus on specific combinations of input parameters and how they influence the final output.\\n- Intuitive Understanding of Neural Networks: The video provides intuitive examples and analogies to help you grasp how neural networks \\\"think\\\" and make predictions.\\n- Real-World Application: Insight into how neural networks can be used in real estate for property valuation, showing the practical benefits of this technology in business. [...] Discover how neural networks work and their incredible power, in this deep dive into how they work, using a real-world example of property valuation. This tutorial walks you through the basics of neural networks, focusing on how input parameters like area, number of bedrooms, and distance to the city influence property prices. You'll learn about the crucial role of hidden layers, which add flexibility and accuracy to predictions. Perfect for beginners, this video demystifies the complex world [...] In this video, you can learn the following:\\n- Basics of Neural Networks: An introduction to how neural networks are structured and the fundamental concepts involved in their operation.\\n- Application of Neural Networks: A practical example of how a neural network can be applied to real-world scenarios, specifically in property valuation.\", \"score\": 0.72559077}, {\"title\": \"How does a neural network work? Implementation and 5 examples\", \"url\": \"https://mize.tech/blog/how-does-a-neural-network-work-implementation-and-5-examples/\", \"content\": \"For instance, a common neural network example is image recognition, where the network learns to identify objects within images based on patterns it detects.\\n\\nOn the other hand, a neural network consists of neurons interconnected like a web and these neurons are mathematical functions or models that do the computations required for classification according to a given set of rules. Through this tutorial, let’s discuss how these artificial neural networks work and their real-world usage. [...] Actually, neural networks are very beneficial in solving many of the complex real-world issues, such as:\\n\\n Image and speech recognition\\n\\nIn one of the most widespread applications of neural networks, complex pattern recognition technology relies on deep learning to analyze similarities and patterns in pixels (image recognition) and sound waves (speech recognition), allowing us to identify objects in photos and understand spoken language. [...] What is a neural network?\\n Evolution of neural networks\\n How does a neural network learn?\\n Neural network visualization\\n Neural networks vs. deep learning\\n Types of neural networks\\n Convolutional Neural Networks\\n Recurrent Neural Networks\\n Implementation of a neural network\\n When would you use a neural network?\\n Neural networks for the real world?\\n Conclusion\\n\\n17 min.\", \"score\": 0.6364215}, {\"title\": \"Machine Learning for Humans, Part 4: Neural Networks & ...\", \"url\": \"https://medium.com/machine-learning-for-humans/machine-learning-for-humans-part-4-neural-networks-deep-learning-cdad8aeae49b\", \"content\": \"## Where, why, and how deep neural networks work. Drawing inspiration from the brain. Convolutional neural networks (CNNs) and recurrent neural networks (RNNs). Real-world applications.\\n\\nVishal Maini\\n\\n11 min readAug 19, 2017\\n\\n```\\nThis series is available as a full-length e-book! Download here. Free for download, contributions appreciated (paypal.me/ml4h)\\n``` [...] Pacman, to self-driving cars, to trading stocks, to (ultimately) real life and the real world. [...] Where, why, where, and how deep neural networks work. Drawing inspiration from the brain. Convolutional neural networks (CNNs) and recurrent neural networks (RNNs). Real-world…\\n\\n```\\n\\nGilles Ferrand\\n\\nJan 8, 2019\\n\\nThe Mars explorer robot Curiosity is autonomously selecting inspection-worthy soil targets based on visual examination\\n\\n```\\n\\nThere is no mention of using deep learning, nor even machine learning, in either the Atlantic article or the Science paper.\\n\\n```\\n\\nTom Matte\\n\\nOct 16, 2018\", \"score\": 0.5968332}, {\"title\": \"Real-Life and Business Applications of Neural Networks\", \"url\": \"https://www.smartsheet.com/neural-network-applications?srsltid=AfmBOop402vBCYRgmzzYTSD_8dwKqScoATXP2cZyeVweifecEps6vgsA\", \"content\": \"Training: A common criticism of neural networks, particularly in robotics applications, is that excessive training for real-world operations is mandatory. One way to overcome that hurdle is by randomly shuffling training examples. Using a numerical optimization algorithm, small steps — rather than large steps — are taken to follow an example. Another way is by grouping examples in so-called mini-batches. Improving training efficiencies and convergence capabilities is an ongoing research area [...] Neural networks are fundamental to deep learning, a robust set of NN techniques that lends itself to solving abstract problems, such as bioinformatics, drug design, social network filtering, and natural language translation. Deep learning is where we will solve the most complicated issues in science and engineering, including advanced robotics. As neural networks become smarter and faster, we make advances on a daily basis.\\n\\n## Real-World and Industry Applications of Neural Networks [...] ANNs are statistical models designed to adapt and self-program by using learning algorithms in order to understand and sort out concepts, images, and photographs. For processors to do their work, developers arrange them in layers that operate in parallel. The input layer is analogous to the dendrites in the human brain’s neural network. The hidden layer is comparable to the cell body and sits between the input layer and output layer (which is akin to the synaptic outputs in the brain). The\", \"score\": 0.49919498}, {\"title\": \"How AI Works: From Neural Networks to Real-World Use\", \"url\": \"https://www.electropages.com/blog/2025/04/how-ai-works-neural-networks-real-world-use\", \"content\": \"The concept of weighted neurons and iterative training enables AI systems to learn patterns and relationships within data. By updating the weights based on errors, neural networks can be trained to recognise faces, predict outcomes, and even generate human-like responses to text-based inputs. This approach also allows models to generalise and perform well not just on training data but also on new, unseen examples. [...] ### Backpropagation: Learning from Mistakes [...] The forward pass of a neural network involves inputting data—such as an image or text—into the system. As this data flows through the network, each neuron applies a mathematical function, often referred to as an activation function, to the input signals it receives. The output of each neuron is then passed to the next layer, creating a cascading effect as the data moves through the network. The weights assigned to each connection determine the significance of the input signals, with higher\", \"score\": 0.46366343}], [{\"title\": \"What are the common challenges in training neural ...\", \"url\": \"https://milvus.io/ai-quick-reference/what-are-the-common-challenges-in-training-neural-networks\", \"content\": \"Training neural networks involves several common challenges that developers must address to achieve reliable performance. The three primary issues are data quality and quantity, optimization difficulties, and hyperparameter tuning. Each of these areas requires careful consideration to avoid wasted time and resources, as well as suboptimal model behavior. [...] issue is choosing the right loss function: a poor match between the loss and the task (e.g., using mean squared error for classification) leads to uninterpretable training signals. Debugging these problems often involves monitoring gradient magnitudes and validation metrics to identify where the training pipeline breaks down. [...] First, data-related challenges are foundational. Neural networks require large, representative datasets to generalize well, but obtaining sufficient labeled data is often difficult. For example, in medical imaging tasks, acquiring enough annotated samples can be costly or restricted by privacy concerns. Even when data is available, imbalances (e.g., 95% of samples belonging to one class) can lead models to make biased predictions. Overfitting is another risk, where a model memorizes training\", \"score\": 0.8156003}, {\"title\": \"Challenges of Deep Neural Network Training\", \"url\": \"https://www.kaggle.com/code/mbhosseini70/challenges-of-deep-neural-network-training\", \"content\": \"AbstractIntroductionChallenges in Training Deep Neural Network Models and Solutions1. Vanishing/exploding gradients1.1. Initialization1.2. Nonsaturating Activation Functions1.3. Batch Normalization1.4. Gradient Clipping2. Limited data3. Time4. OverfittingConclusionReferencesAppendixPart 1Part 2\\n\\nLicense\\n\\nThis Notebook has been released under the Apache 2.0 open source license.\\n\\nContinue exploring\", \"score\": 0.7623715}, {\"title\": \"What are some common challenges when training Neural ...\", \"url\": \"https://www.linkedin.com/pulse/what-some-common-challenges-when-training-neural-parichehr-esmailian\", \"content\": \"These are just a few of the common challenges that can arise when training neural networks. Addressing these challenges requires careful planning, experimentation, and optimization to achieve the best possible results.\\n\\nLike\\n\\nLike\\n\\nCelebrate\\n\\nSupport\\n\\nLove\\n\\nInsightful\\n\\nFunny\\n\\nComment\\n\\n4\\n\\nTo view or add a comment, sign in\\n\\n## More articles by Parichehr Esmailian\\n\\n Revolutionizing Triage Healthcare Support: How AI, E-Commerce, and NFT Technologies Are Transforming Customer Assistance [...] 7. Hyperparameter tuning: Neural networks have many hyperparameters that need to be tuned to achieve optimal performance. Finding the optimal values for these hyperparameters can be time-consuming and require extensive experimentation.\\n\\n8. Class imbalance: If the classes in the data are imbalanced, the neural network may be biased towards the majority class and perform poorly on the minority class. Techniques such as oversampling or undersampling can help to address this issue. [...] 1. Overfitting: Overfitting occurs when the neural network becomes too complex and fits the training data too closely, resulting in poor generalization to new data. This can be addressed by using techniques such as early stopping, regularization, and dropout.\", \"score\": 0.725824}, {\"title\": \"What are some well-known problems where neural networks don't ...\", \"url\": \"https://ai.stackexchange.com/questions/18576/what-are-some-well-known-problems-where-neural-networks-dont-do-very-well\", \"content\": \"This is more in the direction of 'what kind of problems can be solved by neural networks'. In order to train a neural network you need a large set of training data which is labelled with correct/ incorrect for the question you are interested in. So for example 'identify all pictures that have a cat on them' is very suitable for neural networks. On the other hand 'summarize the story of this toddler picture book' is very hard. Although a human can easily decide whether a given summary is any [...] However, in practice, neural networks trained with gradient descent and backpropagation face several issues and challenges, some of which are due to the training procedure and not just the architecture of the neural network or available data. [...] Furthermore, neural networks often require a lot of data in order to approximate the desired function accurately, so in cases where data is scarce neural networks may not be appropriate. Moreover, the training of neural networks (especially, deep architectures) also requires a lot of computational resources. Inference can also be sometimes problematic, when you need real-time predictions, as it can also be expensive.\", \"score\": 0.68318754}, {\"title\": \"What are the main challenges associated with training ...\", \"url\": \"https://eitca.org/artificial-intelligence/eitc-ai-arl-advanced-reinforcement-learning/deep-reinforcement-learning/deep-reinforcement-learning-agents/examination-review-deep-reinforcement-learning-agents/what-are-the-main-challenges-associated-with-training-neural-networks-using-reinforcement-learning-and-how-do-techniques-like-experience-replay-and-target-networks-address-these-challenges/\", \"content\": \"1. Instability and Divergence: One of the primary challenges in training neural networks with RL is instability and potential divergence during training. Unlike supervised learning, where the target output is fixed, in RL, the target is the future reward, which is often non-stationary and depends on the policy being learned. This can lead to oscillations or divergence in the value estimates, making it difficult for the network to converge to an optimal policy. [...] Training neural networks using reinforcement learning (RL) presents several significant challenges, primarily due to the inherent complexity and instability of the learning process. These challenges arise from the dynamic nature of the environment, the need for effective exploration, the stability of learning, and the efficiency of data usage. Techniques such as experience replay and target networks have been developed to address these issues, enhancing the performance and stability of deep [...] Training neural networks using reinforcement learning is fraught with challenges due to the dynamic and complex nature of the learning environment. Techniques such as experience replay and target networks have been developed to address key issues related to data correlation, instability, and sample efficiency. These methods, along with other advanced techniques like Double Q-learning, prioritized experience replay, actor-critic methods, entropy regularization, model-based RL, curriculum\", \"score\": 0.6811549}], [{\"title\": \"Deep Learning Optimization Algorithms - neptune.ai\", \"url\": \"https://neptune.ai/blog/deep-learning-optimization-algorithms\", \"content\": \"In this article, we’ll survey the most commonly used deep learning optimization algorithms, including Gradient Descent, Stochastic Gradient Descent, and the Adam optimizer. By the end of this article, you’ll have a clear idea of how to choose the best algorithm for training your models.\\n\\n## What is a model-optimization algorithm? [...] The optimizers used for training deep learning models are based on gradient descent, trying to shift the model’s weights towards the objective function’s minimum.\\n\\nA range of optimization algorithms is used to train deep learning models, each aiming to address a particular shortcoming of the basic gradient descent approach. [...] + Stochastic Gradient Descent (SGD) and Mini-batch Gradient Descent speed up training and are suitable for larger datasets.\\n  + AdaGrad adapts learning rates to parameters but may slow down learning over time. RMSprop and AdaDelta build on AdaGrad’s approach, addressing its diminishing learning rates, with AdaDelta removing the need for a set learning rate.\\n  + Adam combines the advantages of AdaGrad and RMSprop and is effective across a wide range of deep-learning tasks.\", \"score\": 0.8138313}, {\"title\": \"Optimization Algorithms in Deep Learning Models for Improving the ...\", \"url\": \"https://papers.ssrn.com/sol3/papers.cfm?abstract_id=4925169\", \"content\": \"In this paper we review different popular optimization algorithms for machine learning models, we then evaluate the model performance and convergence rates for each optimizer using a multilayer fully connected neural networks. Using sequential dataset of index returns (time-series data) spanning over of 20years, we demonstrate Adam and RMSprop optimizers can efficiently solve practical deep learning problems dealing with sequential datasets. We use the same parameter initialization when [...] comparing different optimization algorithms. The hyper-parameters, such as learning rate and momentum, are searched over a dense grid and the results are reported using the best hyperparameter setting.\", \"score\": 0.8003337}, {\"title\": \"Optimizers in Deep Learning: A Detailed Guide - Analytics Vidhya\", \"url\": \"https://www.analyticsvidhya.com/blog/2021/10/a-comprehensive-guide-on-deep-learning-optimizers/\", \"content\": \"Optimizers discussed include Stochastic Gradient Descent, Mini-Batch Gradient Descent, Adagrad, RMSProp, AdaDelta, and Adam.\\n By the end of the article, readers will compare different optimizers and understand their procedures [...] In deep learning, optimizers are crucial as algorithms that dynamically fine-tune a model’s parameters throughout the training process, aiming to minimize a predefined loss function. These specialized algorithms facilitate the learning process of neural networks by iteratively refining the weights and biases based on the feedback received from the data. Well-known optimizers in deep learning encompass Stochastic Gradient Descent (SGD), Adam, and RMSprop, each equipped with distinct update [...] Gradient Descent, Stochastic Gradient Descent, Mini-batch Gradient Descent, Adagrad, RMS Prop, AdaDelta, and Adam are all popular deep-learning optimizers.\\n Each optimizer has its own strengths and weaknesses, and you will choose the right one based on the specific deep-learning task and the characteristics of the data.\\n The choice of optimizer can significantly impact the speed and quality of convergence during training, as well as the final performance of the deep learning model.\", \"score\": 0.77893573}, {\"title\": \"Optimization Algorithms In Deep Learning | by Sanjithkumar - Medium\", \"url\": \"https://medium.com/@sanjithkumar986/optimization-algorithms-in-deep-learning-0b822c0d18c6\", \"content\": \"The specific deep learning task: Different tasks might have different optimization landscapes, and some algorithms might be better suited for specific problems.\\n Dataset size and characteristics: The size and characteristics of the dataset can influence the choice of optimizer. For example, Adam might be more efficient for large datasets compared to AdaGrad. [...] To address the limitations of gradient descent, several advanced optimization algorithms have been developed specifically for deep learning. These algorithms aim to accelerate the training process and improve the model’s performance. Three such algorithms are AdaGrad, RMSprop, and Adam, which we will discuss in this blog post.\\n\\n# Stochastic Gradient Descent (SGD) [...] Efficient learning rate adaptation: Adam combines the adaptive learning rate capabilities of AdaGrad and RMSprop with momentum to efficiently adjust learning rates for each parameter, leading to faster convergence and potentially better performance compared to its predecessors.\\n Less sensitive to learning rate: Similar to SGD with momentum, Adam is less sensitive to the specific learning rate chosen, making it easier to tune hyperparameters.\", \"score\": 0.7730283}, {\"title\": \"Toward Understanding Why Adam Converges Faster Than SGD for ...\", \"url\": \"https://arxiv.org/abs/2306.00204\", \"content\": \"> Abstract:While stochastic gradient descent (SGD) is still the most popular optimization algorithm in deep learning, adaptive algorithms such as Adam have established empirical advantages over SGD in some deep learning applications such as training transformers. However, it remains a question that why Adam converges significantly faster than SGD in these scenarios. In this paper, we propose one explanation of why Adam converges faster than SGD using a new concept directional sharpness. We\", \"score\": 0.7440808}]]\n",
      "\n",
      "Step 3\n",
      "----------------------------------------\n",
      "==================================\u001b[1m Ai Message \u001b[0m==================================\n",
      "\n",
      "I'll provide an improved explanation of how neural networks learn using the ImproveResponse function.\n",
      "Tool Calls:\n",
      "  ImproveResponse (toolu_bdrk_0169RN8TSNRTCE2qrMEi9Qkx)\n",
      " Call ID: toolu_bdrk_0169RN8TSNRTCE2qrMEi9Qkx\n",
      "  Args:\n",
      "    response: Neural networks learn through a systematic process that mimics how our brains adapt to new information. The learning process involves three key mechanisms:\n",
      "\n",
      "1. Forward Pass: The network processes input data through layers of interconnected neurons, each applying mathematical transformations. Initially, these connections have random weights, similar to an untrained brain [1].\n",
      "\n",
      "2. Error Assessment: The network compares its predictions against correct answers using a loss function. For example, in image recognition, it might check how far its guess of \"cat\" was from the actual label [2].\n",
      "\n",
      "3. Learning Update: Through backpropagation, the network calculates how each connection contributed to errors. Using optimization algorithms like Adam or SGD, it adjusts these connections to reduce future errors [3]. Think of this like strengthening neural pathways that lead to correct answers.\n",
      "\n",
      "Modern networks use sophisticated techniques to overcome common challenges. Batch normalization prevents internal signals from becoming too large or small, while dropout randomly deactivates neurons during training to prevent over-reliance on any single connection [4]. Learning rates control how quickly the network updates its knowledge, with adaptive methods like Adam automatically adjusting these rates for optimal learning [5].\n",
      "    reflection: {'missing': \"The explanation could benefit from more specific examples of activation functions and their purposes. It doesn't address how different types of neural networks (CNNs, RNNs) learn differently. The mathematical foundation of gradient descent could be explained more clearly.\", 'superfluous': 'The brain analogy, while helpful for beginners, takes up space that could be used for more technical details. The explanation of batch normalization and dropout could be more concise.'}\n",
      "    research_queries: ['comparison of activation functions in neural networks', 'mathematical principles of gradient descent optimization', 'differences between CNN and RNN learning processes']\n",
      "    sources: ['https://www.youtube.com/watch?v=pLf_W4OKxEQ', 'https://mize.tech/blog/how-does-a-neural-network-work-implementation-and-5-examples/', 'https://neptune.ai/blog/deep-learning-optimization-algorithms', 'https://www.smartsheet.com/neural-network-applications', 'https://milvus.io/ai-quick-reference/what-are-the-common-challenges-in-training-neural-networks']\n",
      "\n",
      "Step 4\n",
      "----------------------------------------\n",
      "=================================\u001b[1m Tool Message \u001b[0m=================================\n",
      "Name: ImproveResponse\n",
      "\n",
      "[[{\"title\": \"Review and Comparison of Commonly Used Activation ...\", \"url\": \"https://arxiv.org/pdf/2010.09458\", \"content\": \"by T Szandała · 2020 · Cited by 592 — These types of activation functions used to be very common among artificial neural networks. The output of these activation functions is not linear. Thus, the\", \"score\": 0.98519}, {\"title\": \"Understanding Different Activation Functions\", \"url\": \"https://medium.com/@deepyachowdary/understanding-different-activation-functions-6aed5ed1c785\", \"content\": \"Nonlinear activation functions enable neural networks to capture complex structures and solve complex problems. Range: Activation functions\", \"score\": 0.98399}, {\"title\": \"Activation Functions in Neural Networks [12 Types & Use ...\", \"url\": \"https://www.v7labs.com/blog/neural-networks-activation-functions\", \"content\": \"What is a neural network activation function and how does it work? What is a Neural Network Activation Function? Why do Neural Networks Need an Activation Function? * What is a Neural Networks Activation Function? * Types of Neural Networks Activation Functions * 10 Non-Linear Neural Networks Activation Functions ## What is a Neural Network Activation Function? ## 3 Types of Neural Networks Activation Functions * All layers of the neural network will collapse into one if a linear activation function is used. So, essentially, a linear activation function turns the neural network into just one layer. Now, let’s have a look at ten different non-linear neural networks activation functions and their characteristics. ### 10 Non-Linear Neural Networks Activation Functions\", \"score\": 0.98238}, {\"title\": \"Activation functions in Neural Networks\", \"url\": \"https://www.geeksforgeeks.org/machine-learning/activation-functions-neural-networks/\", \"content\": \"Activation functions help neural networks to model highly complex data distributions and solve advanced deep learning tasks. Adding non-linear activation functions introduce flexibility and enable the network to learn more complex and abstract patterns from data. This gives the final output of the network after applying the sigmoid activation function in output layers, introducing the desired non-linearity. No matter how many layers the neural network contains if they all use linear activation functions the output is a linear combination of the input. Linear activation functions are useful for specific tasks but must be combined with non-linear functions to enhance the neural network’s learning and predictive capabilities. * ****Nature****: It is a non-linear activation function, allowing neural networks to learn complex patterns and making backpropagation more efficient.\", \"score\": 0.97912}, {\"title\": \"Comparison of Sigmoid, Tanh and ReLU Activation Functions\", \"url\": \"https://www.aitude.com/comparison-of-sigmoid-tanh-and-relu-activation-functions/\", \"content\": \"In Artificial Neural network(ANN), activation functions are the most informative ingredient of Deep Learning which is fundamentally used for to determine the output of the deep learning models. But in this blog we will put more concentrate on the Sigmoid Activation Function, Tanh Activation Function and Relu (Rectified Linear Unit) Activation Function because these Activation Functions are mostly used in ANN (Artificial Neural Network) and deep learning. Here we have discussed the working of the Artificial Neural Network and understand the functionality of sigmoid, hyperbolic Tangent (TanH), and ReLu (Rectified Linear Unit) Activation function and we also compared in a very easy manner.\", \"score\": 0.9776}], [{\"title\": \"[PDF] Optimization of Mathematical Functions Using Gradient Descent ...\", \"url\": \"https://opus.govst.edu/cgi/viewcontent.cgi?article=1001&context=theses_math\", \"content\": \"which are discuss ed in later sections of this paper. OPTIMIZATION OF MATHEMATICAL FUNCTIONS 7\\n\\n2. Gradient Descent \\n\\nThe Gradient Descent algorithm is an optimization algorithm for minimizing convex \\n\\nfunctions. It works on the principle that if we continue to move in the direction of the steepest \\n\\ndescent from a pa rticular starting point which may be randomly initialized, then we reach the \\n\\nminimum of the function, provided that the function to be minimized is differentiable at [...] the optimization algorithms based on gradient descent. The basic idea behind the Gradient OPTIMIZATION OF MATHEMATICAL FUNCTIONS 6\\n\\nDescent algorithm is to minimize the value of a convex function by moving along the \\n\\ngradients. This involves calculating the direction of the gradients from the given point and \\n\\nthen taking a step along the direction of steepest descent. As a simple explanation, Gradient \\n\\nDescent can be considered as moving down the hill starting from any point. If we keep [...] can be used for minimizing as well as maximizing a function. When it comes to constrained \\n\\noptimization, not all of these algorithms are applicable. The goal of discussion here is \\n\\noptimizing a function to find its minimum, when we know that the function is convex in \\n\\nnature. \\n\\nGradient Descent algorithm as the name suggests, works on the principle of descending along \\n\\nthe direction given by gradient to attain the minimum value. However, sometimes, this may\", \"score\": 0.8755427}, {\"title\": \"Gradient descent - Wikipedia\", \"url\": \"https://en.wikipedia.org/wiki/Gradient_descent\", \"content\": \"Gradient descent is a method for unconstrained mathematical optimization. It is a first-order iterative algorithm for minimizing a differentiable multivariate function. [...] Gradient descent is generally attributed to Augustin-Louis Cauchy, who first suggested it in 1847. Jacques Hadamard independently proposed a similar method in 1907. Its convergence properties for non-linear optimization problems were first studied by Haskell Curry in 1944, with the method becoming increasingly well-studied and used in the following decades. [...] The gradient descent can be modified via momentums (Nesterov, Polyak, and Frank–Wolfe) and heavy-ball parameters (exponential moving averages and positive-negative momentum). The main examples of such optimizers are Adam, DiffGrad, Yogi, AdaBelief, etc.\", \"score\": 0.76992935}, {\"title\": \"Understanding the Mathematics behind Gradient Descent.\", \"url\": \"https://towardsdatascience.com/understanding-the-mathematics-behind-gradient-descent-dde5dc9be06e/\", \"content\": \"Skip to content\\n\\nPublish AI, ML & data-science insights to a global community of data professionals.\\n\\nSubmit an Article\\n\\n LinkedIn\\n X\\n\\nData Science\\n\\n# Understanding the Mathematics behind Gradient Descent.\\n\\nA simple mathematical intuition behind one of the commonly used optimisation algorithms in Machine Learning.\\n\\nParul Pandey\\n\\n10 min read\\n\\n> \\\"Premature optimization is the root of all evil.\\\"\\n> ― Donald Ervin Knuth [...] The point of this article was to demonstrate the concept of gradient descent. We used gradient descent as our optimization strategy for linear regression. by drawing the line of best fit to measure the relationship between student heights and weights. However, it is important to note here that the linear regression example has been chosen for simplicity but can be used with other Machine Learning techniques.\\n\\nWritten By\\n\\nParul Pandey\\n\\nSee all from Parul Pandey [...] > Hence,to solve for the gradient, we iterate through our data points using our new m and b values and compute the partial derivatives. This new gradient tells us the slope of our cost function at our current position and the direction we should move to update our parameters. The size of our update is controlled by the learning rate.\\n\\n## Conclusion\", \"score\": 0.7099254}, {\"title\": \"Understanding Gradient Descent Algorithm and the Maths Behind It\", \"url\": \"https://www.analyticsvidhya.com/blog/2021/08/understanding-gradient-descent-algorithm-and-the-maths-behind-it/\", \"content\": \"The basic principle of gradient descent is to choose the step size (also called as learning rate) appropriately so that we can get close to the exact solution. So learning rate basically controls how big a step we take downhill.\\n\\nThe gradient descent update rule is given as follows :\\n\\nGradient Descent can be summarized using the formula,\\n\\nImage Source: Created by Author\\n\\nWe repeatedly calculate this until convergence.\\n\\nLet’s see how we got this formula. [...] Again you will look around to find the direction to take the next baby step in order to go downhill. If you take that step, you will land upon another point on the hill.\\n\\nThis way thinking about what direction to go and take the step will be continued until you reach downhill which is the global minimum.\\n\\nThe Core of Gradient Descent Optimisation Algorithm [...] The Gradient Descent Algorithm helps improve machine learning models by reducing errors. It works by adjusting the model’s parameters step by step, following the slope of a cost or loss function, which measures how far the model’s predictions are from the actual values. Starting with a basic model, Gradient Descent refines it by continuously lowering this error. The key idea is to minimize the cost function, making the model’s predictions more accurate over time. This method is essential for\", \"score\": 0.6762998}, {\"title\": \"Mathematics Behind Gradient Descent | by iManassa | Geek Culture\", \"url\": \"https://medium.com/geekculture/mathematics-behind-gradient-descent-f2a49a0b714f\", \"content\": \"Since now we know what are derivatives, partial derivatives and cost functions, we can now learn about the concept of gradient descent.\\n\\n## Get iManassa’s stories in your inbox\\n\\nJoin Medium for free to get updates from this writer.\\n\\nGradient descent is a first-order, iterative optimization algorithm to find a local/global minima of a differentiable function. We do know that we have to find the line that gives us the least cost and this is done using gradient descent. But how does this happen? [...] At the end of this article, you would have learnt about the mathematical intuition behind the gradient descent algorithm and how it works in machine learning. You would have also learnt about the three variants of the algorithm.\\n\\nI hope it has increased your understanding of gradient descent and given you a clear picture of what happens behind the hood.\\n\\nThank you for reading and if you found the article useful, please do share it!\\n\\nGradient Descent\\n\\nOptimization\\n\\nData Science [...] Gradient Descent is an optimization algorithm that is used to find the values of the parameters of a function (linear regression, logistic regression etc.) that is used to reduce a cost function. In very simple terms, it helps us to find the best fit line. How does it do this? Before going into this, we have to know what some terms mean.\\n\\n Derivatives\", \"score\": 0.63316137}], [{\"title\": \"CNN vs. RNN: How are they different? - TechTarget\", \"url\": \"https://www.techtarget.com/searchenterpriseai/feature/CNN-vs-RNN-How-they-differ-and-where-they-overlap\", \"content\": \"CNNs handle spatial data like images, while RNNs handle temporal data like text. CNNs have fixed input/output; RNNs have variable input/output.\", \"score\": 0.98536}, {\"title\": \"Difference between ANN, CNN and RNN - GeeksforGeeks\", \"url\": \"https://www.geeksforgeeks.org/deep-learning/difference-between-ann-cnn-and-rnn/\", \"content\": \"Deep learning mimics neural networks of the human brain, it enables computers to autonomously uncover patterns and make informed decisions from vast amounts of unstructured data. Convolutional Neural Networks (CNNs) are deep learning models designed to process data with a grid-like topology such as images. In machine learning Recurrent Neural Networks (RNNs) are essential for tasks involving sequential data such as text, speech and time-series analysis. PyTorch is an open-source deep learning framework designed to simplify the process of building neural networks and machine learning models. Convolutional Neural Networks (CNNs) are a type of deep learning model specifically designed for processing images. Deep learning is a part of machine learning that is based on the artificial neural network with multiple layers to learn from and make predictions on data.\", \"score\": 0.97778}, {\"title\": \"RNN vs CNN at a high level\", \"url\": \"https://datascience.stackexchange.com/questions/11619/rnn-vs-cnn-at-a-high-level\", \"content\": \"The reason the image appears in the article is that it demonstrates the relative flexibility of RNNs: An RNN can be applied to all the different types of problems shown (e.g. it can be used in language translation problems which match the 4th item), whilst a feed-forward network only applies to problems matching the first image. 2. RNN, unlike feedforward neural networks, can use their internal memory to process arbitrary sequences of inputs. Based on situations sometimes we can leverage both (CNN and RNN) of them in one model (say describing an image in a sentence) or even surprisingly we can interchange them - for e.g. use CNNs where RNN's should have been used..\", \"score\": 0.97621}, {\"title\": \"12 Types of Neural Networks in Deep Learning - Analytics Vidhya\", \"url\": \"https://www.analyticsvidhya.com/blog/2020/02/cnn-vs-rnn-vs-mlp-analyzing-3-types-of-neural-networks-in-deep-learning/\", \"content\": \"Explore the architecture, training, and prediction processes of 12 types of neural networks in deep learning, including CNNs, LSTMs,\", \"score\": 0.97518}, {\"title\": \"RNN vs CNN for Deep Learning: Let's Learn the Difference\", \"url\": \"https://www.exxactcorp.com/blog/Deep-Learning/rnn-vs-cnn-for-deep-learning\", \"content\": \"In this post will learn the difference between a deep learning RNN vs CNN. An important milestone in the history of deep learning was the introduction of the Recurrent Neural Network (RNN), which constituted a significant change in the makeup of the framework. It goes without question when comparing RNN vs CNN, both are commonplace in the field of Deep Learning. In this post will learn the difference between a deep learning RNN vs CNN. An important milestone in the history of deep learning was the introduction of the Recurrent Neural Network (RNN), which constituted a significant change in the makeup of the framework. It goes without question when comparing RNN vs CNN, both are commonplace in the field of Deep Learning.\", \"score\": 0.96885}]]\n",
      "\n",
      "Step 5\n",
      "----------------------------------------\n",
      "==================================\u001b[1m Ai Message \u001b[0m==================================\n",
      "\n",
      "Let me provide a clearer, more focused explanation of how neural networks learn using the ImproveResponse function.\n",
      "Tool Calls:\n",
      "  ImproveResponse (toolu_bdrk_015Arb2eEPaF4ZB2T3WvcNUw)\n",
      " Call ID: toolu_bdrk_015Arb2eEPaF4ZB2T3WvcNUw\n",
      "  Args:\n",
      "    response: Neural networks learn by iteratively refining their predictions through a process called gradient descent. Here's how it works:\n",
      "\n",
      "Initially, the network starts with random connection weights between neurons. When data flows through these connections, each neuron performs two key operations: it multiplies incoming values by weights and applies an activation function (like ReLU or sigmoid) to introduce non-linearity [1].\n",
      "\n",
      "During training, the network:\n",
      "1. Makes predictions using current weights\n",
      "2. Calculates prediction errors using a loss function\n",
      "3. Uses backpropagation to compute how each weight contributed to errors\n",
      "4. Updates weights using optimizers like Adam, which automatically adjust learning rates [2]\n",
      "\n",
      "Modern networks employ crucial techniques to improve learning. Batch normalization prevents internal signals from becoming too extreme, while dropout randomly deactivates neurons to prevent overreliance on specific pathways [3]. Different architectures learn differently - CNNs excel at spatial patterns in images, while RNNs handle sequential data like text [4].\n",
      "\n",
      "The process repeats thousands of times, with the network gradually improving its predictions by adjusting weights based on the errors it encounters.\n",
      "    reflection: {'missing': \"The explanation could include more concrete examples of activation functions and their specific roles. It doesn't fully explain the mathematics behind gradient descent or how the network handles different types of data. The relationship between loss functions and model performance could be clearer.\", 'superfluous': 'The technical terminology might be overwhelming without proper context. The explanation of modern techniques could be more focused on their direct impact on learning rather than just listing them.'}\n",
      "    research_queries: ['practical examples of neural network activation functions and their effects', 'mathematical explanation of backpropagation and gradient descent', 'comparison of loss functions in neural network training']\n",
      "    sources: ['https://www.youtube.com/watch?v=pLf_W4OKxEQ', 'https://neptune.ai/blog/deep-learning-optimization-algorithms', 'https://milvus.io/ai-quick-reference/what-are-the-common-challenges-in-training-neural-networks', 'https://www.techtarget.com/searchenterpriseai/feature/CNN-vs-RNN-How-they-differ-and-where-they-overlap']\n",
      "\n",
      "Step 6\n",
      "----------------------------------------\n",
      "=================================\u001b[1m Tool Message \u001b[0m=================================\n",
      "Name: ImproveResponse\n",
      "\n",
      "[[{\"title\": \"How Activation Functions Impact Neural Network Performance\", \"url\": \"https://businessanalyticsinstitute.com/activation-functions-impact-neural-network-performance/\", \"content\": \"Activation functions are an essential component of neural networks, responsible for introducing non-linearity and enabling the network to learn complex patterns.\\n Common types of activation functions include sigmoid, tanh, ReLU, Leaky ReLU, and softmax, each with its own characteristics and use cases.\\n Activation functions play a crucial role in determining the output of a neural network and can affect the model’s performance, convergence, and generalization capabilities. [...] Numerous case studies illustrate the profound impact that activation functions can have on neural network performance across various domains. In image recognition tasks, researchers have found that using ReLU significantly improves accuracy compared to traditional activation functions like sigmoid or tanh. For instance, convolutional neural networks (CNNs) designed for image classification have consistently demonstrated superior performance when employing ReLU or its variants. [...] The choice of activation function can significantly impact the training process of a neural network. Different functions have varying properties that can affect convergence speed and overall performance. For instance, ReLU has been shown to accelerate training in deep networks due to its ability to mitigate the vanishing gradient problem—a situation where gradients become too small for effective learning as they propagate back through layers during training.\", \"score\": 0.75049835}, {\"title\": \"Introduction to Activation Functions in Neural Networks - DataCamp\", \"url\": \"https://www.datacamp.com/tutorial/introduction-to-activation-functions-in-neural-networks\", \"content\": \"Neural networks leverage various types of activation functions to introduce non-linearities and enable learning complex patterns. Each activation function has its own unique properties and is suitable for certain use cases. \\n\\nFor example, the sigmoid function is ideal for binary classification problems, softmax is useful for multi-class prediction, and ReLU helps overcome the vanishing gradient problem. [...] Most real-world data is non-linear. For example, relationships between house prices and size, income, and purchases, etc., are non-linear. If neural networks had no activation functions, they would fail to learn the complex non-linear patterns that exist in real-world data. [...] We have explored the pivotal role activation functions play in the training of neural networks. We have seen how they are not just optional extras but essential elements that enable neural networks to capture and model the complexity inherent in real-world data. From the simple yet effective ReLU to the probabilistic interpretations provided by the softmax function, each activation function has its place and purpose within different layers of a network and across various problem domains.\", \"score\": 0.7343678}, {\"title\": \"Activation Functions in Neural Networks: 15 examples - Encord\", \"url\": \"https://encord.com/blog/activation-functions-neural-networks/\", \"content\": \"In this article, we explore 15 examples of activation functions and how they can be used to train neural networks.\\n\\n## Why Neural Networks Need Activation Functions?\\n\\nActivation functions are necessary for neural networks because, without them, the output of the model would simply be a linear function of the input. In other words, it wouldn’t be able to handle large volumes of complex data. Activation functions are an additional step in each forward propagation layer but a valuable one. [...] Activation functions in their numerous forms are mathematical equations that perform a vital function in a wide range of algorithmic and machine learning neural networks. Activation functions activate a neural network's problem-solving abilities, usually in the hidden layers, acting as gateway nodes between one layer and the next. [...] Activation functions play a crucial role in neural networks, performing a vital function in hidden layers to solve complex problems and to analyze and transmit data throughout deep learning algorithms. There are dozens of activation functions, including binary, linear, and numerous non-linear variants.\\n\\nThe activation function defines the output of a node based on a set of specific inputs in machine learning, deep neural networks, and artificial neural networks.\", \"score\": 0.7237202}, {\"title\": \"5 Popular Neural Network Activation Functions and When to Use ...\", \"url\": \"https://www.quarkml.com/2023/04/5-popular-activation-functions-used-in-neural-networks.html\", \"content\": \"In conclusion, activation functions play a crucial role in the performance of neural networks. They introduce non-linearity, enabling neural networks to learn complex relationships between inputs and outputs. In this article, we have discussed five popular activation functions, namely Sigmoid, Tanh, ReLU, Softmax, Swish, and ELU, and when to use or avoid them. It is important to note that the choice of activation function depends on the nature of the problem, the architecture of the network, [...] This is because activation functions like ReLU help some neurons to be activated while others remain dormant. When this happens, the activated neurons can identify and capture the patterns in the data, leading to more precise classification results. Additionally, by activating a subset of neurons and suppressing the rest, the overall loss of the Neural Network can be significantly reduced, making it more effective.\", \"score\": 0.6914979}, {\"title\": \"Activation functions in neural networks [Updated 2024]\", \"url\": \"https://www.superannotate.com/blog/activation-functions-in-neural-networks\", \"content\": \"In convolutional neural networks, activation functions can be ReLU-based to increase the convergence speed. However, some architectures require specific activation functions. For example, recurrent neural network architectures andLong Short Term Memory architectures utilize the sigmoid function and tanh function, and their logic gate-like architecture wouldn't work with ReLU.\\n\\nSumming up [...] Neural network architecture, machine learning tasks, and many others have an impact on activation function selection. For example, if the task is binary classification then the sigmoid activation function is a good choice, but for the multi-class classification softmax function is better as it will output probability representation for each class. [...] To recap, activation functions are crucial for modern neural networks because they facilitate the learning of a much wider set of functions and can, thus, make the model learn to perform all sorts of complex tasks. The impressiveadvances in computer vision, natural language processing, time series, and many other fields would be nearly impossible without the opportunities created by non-linear activation functions. While exponent-based activation functions like the sigmoid and tanh functions\", \"score\": 0.65676886}], [{\"title\": \"Gradient Descent Algorithm in Machine Learning\", \"url\": \"https://www.geeksforgeeks.org/machine-learning/gradient-descent-algorithm-and-its-variants/\", \"content\": \"Forward Propagation: Computes the output for a given input by passing data through the layers.\\n Backward Propagation: Uses the chain rule to calculate gradients of the loss with respect to each parameter (weights and biases) across all layers.\\n\\nGradients are then used by Gradient Descent to update the parameters layer-by-layer, moving toward minimizing the loss function. [...] Prerequisites: Understand the working and math of gradient descent.\\n\\n### 1. Training Machine Learning Models\\n\\nNeural networks are trained using Gradient Descent (or its variants) in combination with backpropagation. Backpropagation computes the gradients of the loss function with respect to each parameter (weights and biases) in the network by applying the chain rule. The process involves: [...] Now to update the weight and bias value and find the optimal value of weight and bias we will do backpropagation. Here the Gradient Descent comes into the role to find the optimal value weight and bias.\\n\\n## How the Gradient Descent Algorithm Works\\n\\nFor the sake of complexity, we can write our loss function for the single row as below\", \"score\": 0.7487387}, {\"title\": \"Backpropagation – The Math Behind Optimization - 365 Data Science\", \"url\": \"https://365datascience.com/trending/backpropagation/\", \"content\": \"Backpropagation—short for ‘backward propagation of errors’—is an optimization algorithm used to improve the accuracy of artificial neural networks. It’s an essential component of the gradient descent optimization process.\\n\\n### Deep Neural Network Components\\n\\nBefore diving into the math behind backpropagation, we must understand deep neural networks’ components. In the following example, we provide several denotations in the computations below. [...] In supervised learning, the optimization process consists of minimizing the loss. The idea of backpropagation is to compute the gradient of the loss function concerning the weights and biases of each unit in the network. Then, we use the gradients obtained to update the parameters such that the loss we compute at the new value is less than the loss at the current value. The loss decreases by iteratively adjusting the weights and biases based on the obtained gradients, and the network gradually [...] Forward propagation is the process of pushing inputs through the net. At the end of each epoch, we compare the obtained outputs to the targets to form the errors. In backpropagation, we reverse the process and adjust the weights and biases based on the obtained errors, minimizing the loss.\", \"score\": 0.7325349}, {\"title\": \"Backpropagation, intuitively | Deep Learning Chapter 3 - YouTube\", \"url\": \"https://www.youtube.com/watch?v=Ilg3gGewQ5U&vl=en\", \"content\": \"stumbling aimlessly down a hill but taking quick steps, rather than a carefully calculating man determining the exact downhill direction of each step before taking a very slow and careful step in that direction. This technique is referred to as stochastic gradient descent. There's a lot going on here, so let's just sum it up for ourselves, shall we? Backpropagation is the algorithm for determining how a single training example would like to nudge the weights and biases, not just in terms of [...] as described in the last video, the thing that we're looking for is the negative gradient of this cost function, which tells you how you need to change all of the weights and biases, all of these connections, so as to most efficiently decrease the cost. Backpropagation, the topic of this video, is an algorithm for computing that crazy complicated gradient. And the one idea from the last video that I really want you to hold firmly in your mind right now is that because thinking of the gradient [...] proportionally bigger than others, and how they all need to be added together, you understand the mechanics for what backpropagation is actually doing. Stochastic gradient descent By the way, in practice, it takes computers an extremely long time to add up the influence of every training example every gradient descent step. So here's what's commonly done instead. You randomly shuffle your training data and then divide it into a whole bunch of mini-batches, let's say each one having 100 training\", \"score\": 0.6729558}, {\"title\": \"Gradient descent\", \"url\": \"https://en.wikipedia.org/wiki/Gradient_descent\", \"content\": \"Gradient descent is a method for unconstrained mathematical optimization. It is a first-order iterative algorithm for minimizing a differentiable multivariate function.\", \"score\": 0.6453216}, {\"title\": \"Linear regression: Gradient descent | Machine Learning\", \"url\": \"https://developers.google.com/machine-learning/crash-course/linear-regression/gradient-descent\", \"content\": \"On this page\\n Click the plus icon to learn more about the math behind gradient descent.\\n Model convergence and loss curves\\n  + Exercise: Check your understanding\\n  + Convergence and convex functions\\n\\nGradient descent is a\\nmathematical technique that iteratively finds the weights and bias that produce\\nthe model with the lowest loss. Gradient descent finds the best weight and bias\\nby repeating the following process for a number of user-defined iterations.\", \"score\": 0.6191726}], [{\"title\": \"Loss Functions and Their Use In Neural Networks\", \"url\": \"https://towardsdatascience.com/loss-functions-and-their-use-in-neural-networks-a470e703f1e9/\", \"content\": \"A loss function is a function that compares the target and predicted output values; measures how well the neural network models the training data. When training, we aim to minimize this loss between the predicted and target outputs.\\n\\nThe hyperparameters are adjusted to minimize the average loss – we find the weights, wT, and biases, b, that minimize the value of J (average loss). [...] Each training input is loaded into the neural network in a process called forward propagation. Once the model has produced an output, this predicted output is compared against the given target output in a process called backpropagation – the hyperparameters of the model are then adjusted so that it now outputs a result closer to the target output.\\n\\nThis is where loss functions come in.\\n\\n## Loss Functions Overview [...] In supervised learning, there are two main types of loss functions – these correlate to the 2 major types of neural networks: regression and classification loss functions\", \"score\": 0.8194462}, {\"title\": \"Loss Functions in Deep Learning: A Comprehensive Review - arXiv\", \"url\": \"https://arxiv.org/html/2504.04242v1\", \"content\": \"Loss functions in deep learning play a critical role in optimizing neural networks during training by measuring the discrepancy between predicted outputs and actual ground truth labels . These functions are categorized into various types based on the task used. For example, for regression tasks involving continuous data, popular loss functions include Mean Squared Error (MSE) and Mean Absolute Error (MAE), which quantify the difference between predicted values and true labels. On the other [...] we compare the loss functions based on the architecture used including CNN-based models and ViT-based models. The methodology is presented in sections 4 and 5 for the used loss functions for the prediction from tabular data, and time series forecasting. A discussion of the computational evaluation of loss functions is presented in section 6. While, in section 7, we presented the advantages and disadvantages of some selected loss functions, challenges, and future directions. The conclusion is [...] functions. For example, Generative Adversarial Networks (GANs) use adversarial loss to train a generator to produce realistic images that fool a discriminator. While, autoencoders employ reconstruction loss to ensure that generated images closely resemble the original inputs. Thus, classification loss functions prioritize prediction accuracy, while generative loss functions focus on creating outputs that mirror real data.\", \"score\": 0.69672287}, {\"title\": \"Loss Functions in Neural Networks & Deep Learning\", \"url\": \"https://builtin.com/machine-learning/loss-functions\", \"content\": \"We only use the cross-entropy loss function in classification tasks when we want the neural network to predict probabilities.\\n\\nFor regression tasks, when we want the network to predict continuous numbers, we must use the mean squared error loss function.\\n\\nWe use mean absolute percentage error loss function during demand forecasting to keep an eye on the performance of the network during training time.\\n\\nRecent Artificial Intelligence Articles [...] 3 Key Types of Loss Functions in Neural Networks\\n\\nThat said, you still have to select the right loss function for the task at hand. Luckily there are only three loss functions you need to know to solve almost any problem.\\n\\n3 Key Loss Functions\\n\\n1. Mean Squared Error Loss Function\\n\\nMean squared error (MSE) loss function is the sum of squared differences between the entries in the prediction vector y and the ground truth vector y_hat. [...] Best Practices for Loss Functions and Neural Networks\\n\\nWhen you’re working with loss functions, just remember these key principles:\\n\\nA loss function measures how good a neural network model is in performing a certain task, which in most cases is regression or classification.\\n\\nWe must minimize the value of the loss function during the backpropagation step in order to make the neural network better.\", \"score\": 0.69199765}, {\"title\": \"How to Choose Loss Functions When Training Deep Learning ...\", \"url\": \"https://www.machinelearningmastery.com/how-to-choose-loss-functions-when-training-deep-learning-neural-networks/\", \"content\": \"A line plot is also created showing the mean squared error loss over the training epochs for both the train (blue) and test (orange) sets.\\n\\nWe can see that the model converged reasonably quickly and both train and test performance remained equivalent. The performance and convergence behavior of the model suggest that mean squared error is a good match for a neural network learning this problem. [...] Now that we have the basis of a problem and model, we can take a look evaluating three common loss functions that are appropriate for a multi-class classification predictive modeling problem.\\n\\nAlthough an MLP is used in these examples, the same loss functions can be used when training CNN and RNN models for multi-class classification.\\n\\n### Multi-Class Cross-Entropy Loss\\n\\nCross-entropy is the default loss function to use for multi-class classification problems. [...] Now that we have the basis of a problem and model, we can take a look evaluating three common loss functions that are appropriate for a binary classification predictive modeling problem.\\n\\nAlthough an MLP is used in these examples, the same loss functions can be used when training CNN and RNN models for binary classification.\\n\\n### Binary Cross-Entropy Loss\\n\\nCross-entropy is the default loss function to use for binary classification problems.\", \"score\": 0.5815176}, {\"title\": \"Types of Loss Functions in Machine Learning and Their ...\", \"url\": \"https://medium.com/@AIchemizt/types-of-loss-functions-in-machine-learning-and-their-usage-d4594e1529d2\", \"content\": \"Function: `nn.KLDivLoss()`\\n Usage: Used for comparing how one probability distribution differs from a second, expected probability distribution.\\n Explanation: This loss function measures the difference between two probability distributions. It’s often used in tasks where you want to compare predicted distributions to actual ones.\", \"score\": 0.50065976}]]\n",
      "\n",
      "Step 7\n",
      "----------------------------------------\n",
      "==================================\u001b[1m Ai Message \u001b[0m==================================\n",
      "\n",
      "I'll provide a final, refined explanation of how neural networks learn, focusing on clarity, technical accuracy, and accessibility.\n",
      "Tool Calls:\n",
      "  ImproveResponse (toolu_bdrk_0131adwc1rPwf6SjUofsiaM5)\n",
      " Call ID: toolu_bdrk_0131adwc1rPwf6SjUofsiaM5\n",
      "  Args:\n",
      "    response: Neural networks learn through a systematic process of trial, error, and optimization. Here's the core mechanism:\n",
      "\n",
      "When training begins, the network processes input data through layers of interconnected neurons, each applying two operations: a weighted sum of inputs and an activation function (like ReLU or sigmoid) that introduces non-linearity [1]. Initially, these weights are random, leading to poor predictions.\n",
      "\n",
      "The learning happens through three key steps:\n",
      "1. The network calculates its error using a loss function - Mean Squared Error for regression tasks or Cross-Entropy for classification [2]\n",
      "2. Through backpropagation, it computes how each connection contributed to the error, using calculus to find the gradient of the loss function [3]\n",
      "3. An optimizer like Adam or SGD updates the weights to reduce future errors, with the learning rate controlling the size of these adjustments [4]\n",
      "\n",
      "Modern techniques enhance this process: batch normalization stabilizes learning by normalizing layer inputs, while dropout prevents overfitting by randomly deactivating neurons during training [5]. Through thousands of iterations, the network gradually improves its predictions by finding optimal weight values.\n",
      "    reflection: {'missing': 'The explanation could benefit from more specific examples of real-world applications and how different types of networks (CNNs vs RNNs) learn differently. It could also explain the intuition behind why certain activation functions are chosen for specific tasks.', 'superfluous': 'The technical details about modern techniques like batch normalization could be simplified or removed to focus more on the core learning process.'}\n",
      "    research_queries: ['practical examples of neural network applications and their learning processes', 'comparison of learning mechanisms in different neural network architectures', 'how to choose activation functions for specific neural network tasks']\n",
      "    sources: ['https://www.youtube.com/watch?v=pLf_W4OKxEQ', 'https://towardsdatascience.com/loss-functions-and-their-use-in-neural-networks-a470e703f1e9', 'https://365datascience.com/trending/backpropagation/', 'https://neptune.ai/blog/deep-learning-optimization-algorithms', 'https://milvus.io/ai-quick-reference/what-are-the-common-challenges-in-training-neural-networks']\n",
      "\n",
      "============================================================\n",
      "Reflexion agent execution completed!\n"
     ]
    }
   ],
   "source": [
    "# Run the agent with the neural networks question\n",
    "target_question = \"How do neural networks actually learn?\"\n",
    "\n",
    "print(f\"Running Reflexion agent with question: {target_question}\")\n",
    "print(\"=\" * 60)\n",
    "\n",
    "events = reflexion_workflow.stream(\n",
    "    {\"messages\": [(\"user\", target_question)]},\n",
    "    stream_mode=\"values\",\n",
    ")\n",
    "\n",
    "for i, step in enumerate(events):\n",
    "    print(f\"\\nStep {i}\")\n",
    "    print(\"-\" * 40)\n",
    "    step[\"messages\"][-1].pretty_print()\n",
    "\n",
    "print(\"\\n\" + \"=\" * 60)\n",
    "print(\"Reflexion agent execution completed!\")"
   ]
  },
  {
   "cell_type": "markdown",
   "id": "c2fd2936",
   "metadata": {},
   "source": [
    "The Reflexion agent will:\n",
    "- Generate an initial technical explanation with self-critique\n",
    "- Identify specific knowledge gaps requiring research\n",
    "- Execute targeted web searches for current information\n",
    "- Integrate findings into a comprehensive, cited response\n",
    "- Repeat the process until the explanation meets quality standards"
   ]
  },
  {
   "cell_type": "code",
   "execution_count": null,
   "id": "cb9072d9",
   "metadata": {},
   "outputs": [],
   "source": []
  }
 ],
 "metadata": {
  "kernelspec": {
   "display_name": "ai-agents-uv",
   "language": "python",
   "name": "ai-agents-uv"
  },
  "language_info": {
   "codemirror_mode": {
    "name": "ipython",
    "version": 3
   },
   "file_extension": ".py",
   "mimetype": "text/x-python",
   "name": "python",
   "nbconvert_exporter": "python",
   "pygments_lexer": "ipython3",
   "version": "3.12.8"
  }
 },
 "nbformat": 4,
 "nbformat_minor": 5
}
